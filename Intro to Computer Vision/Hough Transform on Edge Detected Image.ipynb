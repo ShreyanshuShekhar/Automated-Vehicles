{
  "nbformat": 4,
  "nbformat_minor": 0,
  "metadata": {
    "colab": {
      "name": "Untitled4.ipynb",
      "version": "0.3.2",
      "provenance": [],
      "include_colab_link": true
    },
    "kernelspec": {
      "name": "python3",
      "display_name": "Python 3"
    }
  },
  "cells": [
    {
      "cell_type": "markdown",
      "metadata": {
        "id": "view-in-github",
        "colab_type": "text"
      },
      "source": [
        "<a href=\"https://colab.research.google.com/github/ShreyanshuShekhar/Automated-Vehicles/blob/master/Intro%20to%20Computer%20Vision/Hough%20Transform%20on%20Edge%20Detected%20Image.ipynb\" target=\"_parent\"><img src=\"https://colab.research.google.com/assets/colab-badge.svg\" alt=\"Open In Colab\"/></a>"
      ]
    },
    {
      "cell_type": "markdown",
      "metadata": {
        "id": "CQyp4rHmxCjr",
        "colab_type": "text"
      },
      "source": [
        "**Hough Transform on Edge Detected Image**"
      ]
    },
    {
      "cell_type": "code",
      "metadata": {
        "id": "vvTzKUV7w0zi",
        "colab_type": "code",
        "colab": {
          "base_uri": "https://localhost:8080/",
          "height": 257
        },
        "outputId": "24e4ec99-3856-46a4-b9cf-f5eb2b5faac4"
      },
      "source": [
        "# Do relevant imports\n",
        "import matplotlib.pyplot as plt\n",
        "import matplotlib.image as mpimg\n",
        "import numpy as np\n",
        "import cv2\n",
        "\n",
        "# Read in and grayscale the image\n",
        "image = mpimg.imread('exit-ramp.jpg')\n",
        "gray = cv2.cvtColor(image,cv2.COLOR_RGB2GRAY)\n",
        "\n",
        "# Define a kernel size and apply Gaussian smoothing\n",
        "kernel_size = 5\n",
        "blur_gray = cv2.GaussianBlur(gray,(kernel_size, kernel_size),0)\n",
        "\n",
        "# Define our parameters for Canny and apply\n",
        "low_threshold = 50\n",
        "high_threshold = 150\n",
        "masked_edges = cv2.Canny(blur_gray, low_threshold, high_threshold)\n",
        "\n",
        "# Define the Hough transform parameters\n",
        "# Make a blank the same size as our image to draw on\n",
        "rho = 1\n",
        "theta = np.pi/180\n",
        "threshold = 1\n",
        "min_line_length = 10\n",
        "max_line_gap = 1\n",
        "line_image = np.copy(image)*0 #creating a blank to draw lines on\n",
        "\n",
        "# Run Hough on edge detected image\n",
        "lines = cv2.HoughLinesP(masked_edges, rho, theta, threshold, np.array([]),\n",
        "                            min_line_length, max_line_gap)\n",
        "\n",
        "# Iterate over the output \"lines\" and draw lines on the blank\n",
        "for line in lines:\n",
        "    for x1,y1,x2,y2 in line:\n",
        "        cv2.line(line_image,(x1,y1),(x2,y2),(255,0,0),10)\n",
        "\n",
        "# Create a \"color\" binary image to combine with line image\n",
        "color_edges = np.dstack((masked_edges, masked_edges, masked_edges)) \n",
        "\n",
        "# Draw the lines on the edge image\n",
        "combo = cv2.addWeighted(color_edges, 0.8, line_image, 1, 0) \n",
        "plt.imshow(combo)"
      ],
      "execution_count": 2,
      "outputs": [
        {
          "output_type": "execute_result",
          "data": {
            "text/plain": [
              "<matplotlib.image.AxesImage at 0x7fab829d2908>"
            ]
          },
          "metadata": {
            "tags": []
          },
          "execution_count": 2
        },
        {
          "output_type": "display_data",
          "data": {
            "image/png": "[encoded data removed]",
            "text/plain": [
              "<Figure size 432x288 with 1 Axes>"
            ]
          },
          "metadata": {
            "tags": []
          }
        }
      ]
    }
  ]
}