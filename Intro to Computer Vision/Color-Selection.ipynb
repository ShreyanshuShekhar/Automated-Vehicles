{
  "nbformat": 4,
  "nbformat_minor": 0,
  "metadata": {
    "colab": {
      "name": "Untitled1.ipynb",
      "version": "0.3.2",
      "provenance": [],
      "include_colab_link": true
    },
    "kernelspec": {
      "name": "python3",
      "display_name": "Python 3"
    }
  },
  "cells": [
    {
      "cell_type": "markdown",
      "metadata": {
        "id": "view-in-github",
        "colab_type": "text"
      },
      "source": [
        "<a href=\"https://colab.research.google.com/github/ShreyanshuShekhar/Automated-Vehicles/blob/master/Intro%20to%20Computer%20Vision/Color-Selection.ipynb\" target=\"_parent\"><img src=\"https://colab.research.google.com/assets/colab-badge.svg\" alt=\"Open In Colab\"/></a>"
      ]
    },
    {
      "cell_type": "markdown",
      "metadata": {
        "id": "0CvgoG0sUC34",
        "colab_type": "text"
      },
      "source": [
        "I imported *pyplot* and *image* from matplotlib. I also import *numpy* for operating on the image."
      ]
    },
    {
      "cell_type": "code",
      "metadata": {
        "id": "b7Tk7xIUUE_W",
        "colab_type": "code",
        "colab": {}
      },
      "source": [
        "import matplotlib.pyplot as plt\n",
        "import matplotlib.image as mpimg\n",
        "import numpy as np"
      ],
      "execution_count": 0,
      "outputs": []
    },
    {
      "cell_type": "markdown",
      "metadata": {
        "id": "Yx2hrOZeUJHq",
        "colab_type": "text"
      },
      "source": [
        "I then read in an image and print out some stats. I’ll grab the x and y sizes and make a copy of the image to work with. **NOTE**: Always make a copy of arrays or other variables in Python. If instead, you say \"a = b\" then all changes you make to \"a\" will be reflected in \"b\" as well!"
      ]
    },
    {
      "cell_type": "code",
      "metadata": {
        "id": "G0C3ckvVQwCv",
        "colab_type": "code",
        "outputId": "0d9f4b77-c99a-44b8-d7f9-971ca9f642f1",
        "colab": {
          "base_uri": "https://localhost:8080/",
          "height": 34
        }
      },
      "source": [
        "# Read in the image and print out some stats\n",
        "image = mpimg.imread('test.jpg')\n",
        "print('This image is: ',type(image), \n",
        "         'with dimensions:', image.shape)\n",
        "\n",
        "# Grab the x and y size and make a copy of the image\n",
        "ysize = image.shape[0]\n",
        "xsize = image.shape[1]\n",
        "# Note: always make a copy rather than simply using \"=\"\n",
        "color_select = np.copy(image)"
      ],
      "execution_count": 0,
      "outputs": [
        {
          "output_type": "stream",
          "text": [
            "This image is:  <class 'numpy.ndarray'> with dimensions: (540, 960, 3)\n"
          ],
          "name": "stdout"
        }
      ]
    },
    {
      "cell_type": "markdown",
      "metadata": {
        "id": "vyeZmZqdUhEA",
        "colab_type": "text"
      },
      "source": [
        "After that, all pixels that meet my color criterion (those above the threshold) will be retained, and those that do not (below the threshold) will be blacked out."
      ]
    },
    {
      "cell_type": "code",
      "metadata": {
        "id": "SDUJTgquRtMU",
        "colab_type": "code",
        "colab": {}
      },
      "source": [
        "# Define our color selection criteria\n",
        "# Note: if you run this code, you'll find these are not sensible values!!\n",
        "# But you'll get a chance to play with them soon in a quiz\n",
        "red_threshold = 200\n",
        "green_threshold = 200\n",
        "blue_threshold = 200\n",
        "rgb_threshold = [red_threshold, green_threshold, blue_threshold]"
      ],
      "execution_count": 0,
      "outputs": []
    },
    {
      "cell_type": "code",
      "metadata": {
        "id": "-zPVOsuPRvq0",
        "colab_type": "code",
        "outputId": "6c5e0bb8-7145-4d42-ad93-97330ec94293",
        "colab": {
          "base_uri": "https://localhost:8080/",
          "height": 240
        }
      },
      "source": [
        "# Identify pixels below the threshold\n",
        "thresholds = (image[:,:,0] < rgb_threshold[0]) \\\n",
        "            | (image[:,:,1] < rgb_threshold[1]) \\\n",
        "            | (image[:,:,2] < rgb_threshold[2])\n",
        "color_select[thresholds] = [0,0,0]\n",
        "\n",
        "# Display the image                 \n",
        "plt.imshow(color_select)\n",
        "plt.show()"
      ],
      "execution_count": 0,
      "outputs": [
        {
          "output_type": "display_data",
          "data": {
            "image/png": "[encoded data removed]",
            "text/plain": [
              "<Figure size 432x288 with 1 Axes>"
            ]
          },
          "metadata": {
            "tags": []
          }
        }
      ]
    }
  ]
}